{
 "cells": [
  {
   "cell_type": "markdown",
   "id": "0c3c226a",
   "metadata": {},
   "source": [
    "# Predicting Car Sale Prices Using KNearestNeighbors\n",
    "\n",
    "In this project, we will be using the K Nearest Neighbor algorithm to create a robust model in predicting car sale prices"
   ]
  },
  {
   "cell_type": "code",
   "execution_count": 1,
   "id": "e8fd32ff",
   "metadata": {},
   "outputs": [],
   "source": [
    "#dependencies\n",
    "import numpy as np\n",
    "import pandas as pd\n",
    "from sklearn.neighbors import KNeighborsRegressor\n",
    "from sklearn.model_selection import cross_val_score, KFold\n",
    "from sklearn.metrics import mean_squared_error\n",
    "import matplotlib.pyplot as plt\n",
    "%matplotlib inline\n",
    "\n"
   ]
  },
  {
   "cell_type": "code",
   "execution_count": 2,
   "id": "7a541429",
   "metadata": {},
   "outputs": [],
   "source": [
    "# Explore the data and clean up column names and keep numerical columns\n",
    "\n",
    "cols = ['symboling', 'normalized-losses', 'make', 'fuel-type', 'aspiration', 'num-of-doors', 'body-style', \n",
    "        'drive-wheels', 'engine-location', 'wheel-base', 'length', 'width', 'height', 'curb-weight', 'engine-type', \n",
    "        'num-of-cylinders', 'engine-size', 'fuel-system', 'bore', 'stroke', 'compression-rate', 'horsepower', 'peak-rpm', 'city-mpg', 'highway-mpg', 'price']\n",
    "cars = pd.read_csv('imports-85.data', names=cols)\n",
    "numeric_cols = ['normalized-losses', 'wheel-base', 'length', 'width', 'height', 'curb-weight', 'engine-size', 'bore', 'stroke', 'compression-rate', 'horsepower', 'peak-rpm', 'city-mpg', 'highway-mpg', 'price']\n"
   ]
  },
  {
   "cell_type": "code",
   "execution_count": 3,
   "id": "d5a62f3e",
   "metadata": {},
   "outputs": [],
   "source": [
    "numeric_cars = cars[numeric_cols].copy()"
   ]
  },
  {
   "cell_type": "code",
   "execution_count": 4,
   "id": "38a157b5",
   "metadata": {},
   "outputs": [
    {
     "data": {
      "text/html": [
       "<div>\n",
       "<style scoped>\n",
       "    .dataframe tbody tr th:only-of-type {\n",
       "        vertical-align: middle;\n",
       "    }\n",
       "\n",
       "    .dataframe tbody tr th {\n",
       "        vertical-align: top;\n",
       "    }\n",
       "\n",
       "    .dataframe thead th {\n",
       "        text-align: right;\n",
       "    }\n",
       "</style>\n",
       "<table border=\"1\" class=\"dataframe\">\n",
       "  <thead>\n",
       "    <tr style=\"text-align: right;\">\n",
       "      <th></th>\n",
       "      <th>normalized-losses</th>\n",
       "      <th>wheel-base</th>\n",
       "      <th>length</th>\n",
       "      <th>width</th>\n",
       "      <th>height</th>\n",
       "      <th>curb-weight</th>\n",
       "      <th>engine-size</th>\n",
       "      <th>bore</th>\n",
       "      <th>stroke</th>\n",
       "      <th>compression-rate</th>\n",
       "      <th>horsepower</th>\n",
       "      <th>peak-rpm</th>\n",
       "      <th>city-mpg</th>\n",
       "      <th>highway-mpg</th>\n",
       "      <th>price</th>\n",
       "    </tr>\n",
       "  </thead>\n",
       "  <tbody>\n",
       "    <tr>\n",
       "      <th>0</th>\n",
       "      <td>?</td>\n",
       "      <td>88.6</td>\n",
       "      <td>168.8</td>\n",
       "      <td>64.1</td>\n",
       "      <td>48.8</td>\n",
       "      <td>2548</td>\n",
       "      <td>130</td>\n",
       "      <td>3.47</td>\n",
       "      <td>2.68</td>\n",
       "      <td>9.0</td>\n",
       "      <td>111</td>\n",
       "      <td>5000</td>\n",
       "      <td>21</td>\n",
       "      <td>27</td>\n",
       "      <td>13495</td>\n",
       "    </tr>\n",
       "    <tr>\n",
       "      <th>1</th>\n",
       "      <td>?</td>\n",
       "      <td>88.6</td>\n",
       "      <td>168.8</td>\n",
       "      <td>64.1</td>\n",
       "      <td>48.8</td>\n",
       "      <td>2548</td>\n",
       "      <td>130</td>\n",
       "      <td>3.47</td>\n",
       "      <td>2.68</td>\n",
       "      <td>9.0</td>\n",
       "      <td>111</td>\n",
       "      <td>5000</td>\n",
       "      <td>21</td>\n",
       "      <td>27</td>\n",
       "      <td>16500</td>\n",
       "    </tr>\n",
       "    <tr>\n",
       "      <th>2</th>\n",
       "      <td>?</td>\n",
       "      <td>94.5</td>\n",
       "      <td>171.2</td>\n",
       "      <td>65.5</td>\n",
       "      <td>52.4</td>\n",
       "      <td>2823</td>\n",
       "      <td>152</td>\n",
       "      <td>2.68</td>\n",
       "      <td>3.47</td>\n",
       "      <td>9.0</td>\n",
       "      <td>154</td>\n",
       "      <td>5000</td>\n",
       "      <td>19</td>\n",
       "      <td>26</td>\n",
       "      <td>16500</td>\n",
       "    </tr>\n",
       "    <tr>\n",
       "      <th>3</th>\n",
       "      <td>164</td>\n",
       "      <td>99.8</td>\n",
       "      <td>176.6</td>\n",
       "      <td>66.2</td>\n",
       "      <td>54.3</td>\n",
       "      <td>2337</td>\n",
       "      <td>109</td>\n",
       "      <td>3.19</td>\n",
       "      <td>3.40</td>\n",
       "      <td>10.0</td>\n",
       "      <td>102</td>\n",
       "      <td>5500</td>\n",
       "      <td>24</td>\n",
       "      <td>30</td>\n",
       "      <td>13950</td>\n",
       "    </tr>\n",
       "    <tr>\n",
       "      <th>4</th>\n",
       "      <td>164</td>\n",
       "      <td>99.4</td>\n",
       "      <td>176.6</td>\n",
       "      <td>66.4</td>\n",
       "      <td>54.3</td>\n",
       "      <td>2824</td>\n",
       "      <td>136</td>\n",
       "      <td>3.19</td>\n",
       "      <td>3.40</td>\n",
       "      <td>8.0</td>\n",
       "      <td>115</td>\n",
       "      <td>5500</td>\n",
       "      <td>18</td>\n",
       "      <td>22</td>\n",
       "      <td>17450</td>\n",
       "    </tr>\n",
       "    <tr>\n",
       "      <th>5</th>\n",
       "      <td>?</td>\n",
       "      <td>99.8</td>\n",
       "      <td>177.3</td>\n",
       "      <td>66.3</td>\n",
       "      <td>53.1</td>\n",
       "      <td>2507</td>\n",
       "      <td>136</td>\n",
       "      <td>3.19</td>\n",
       "      <td>3.40</td>\n",
       "      <td>8.5</td>\n",
       "      <td>110</td>\n",
       "      <td>5500</td>\n",
       "      <td>19</td>\n",
       "      <td>25</td>\n",
       "      <td>15250</td>\n",
       "    </tr>\n",
       "    <tr>\n",
       "      <th>6</th>\n",
       "      <td>158</td>\n",
       "      <td>105.8</td>\n",
       "      <td>192.7</td>\n",
       "      <td>71.4</td>\n",
       "      <td>55.7</td>\n",
       "      <td>2844</td>\n",
       "      <td>136</td>\n",
       "      <td>3.19</td>\n",
       "      <td>3.40</td>\n",
       "      <td>8.5</td>\n",
       "      <td>110</td>\n",
       "      <td>5500</td>\n",
       "      <td>19</td>\n",
       "      <td>25</td>\n",
       "      <td>17710</td>\n",
       "    </tr>\n",
       "    <tr>\n",
       "      <th>7</th>\n",
       "      <td>?</td>\n",
       "      <td>105.8</td>\n",
       "      <td>192.7</td>\n",
       "      <td>71.4</td>\n",
       "      <td>55.7</td>\n",
       "      <td>2954</td>\n",
       "      <td>136</td>\n",
       "      <td>3.19</td>\n",
       "      <td>3.40</td>\n",
       "      <td>8.5</td>\n",
       "      <td>110</td>\n",
       "      <td>5500</td>\n",
       "      <td>19</td>\n",
       "      <td>25</td>\n",
       "      <td>18920</td>\n",
       "    </tr>\n",
       "    <tr>\n",
       "      <th>8</th>\n",
       "      <td>158</td>\n",
       "      <td>105.8</td>\n",
       "      <td>192.7</td>\n",
       "      <td>71.4</td>\n",
       "      <td>55.9</td>\n",
       "      <td>3086</td>\n",
       "      <td>131</td>\n",
       "      <td>3.13</td>\n",
       "      <td>3.40</td>\n",
       "      <td>8.3</td>\n",
       "      <td>140</td>\n",
       "      <td>5500</td>\n",
       "      <td>17</td>\n",
       "      <td>20</td>\n",
       "      <td>23875</td>\n",
       "    </tr>\n",
       "    <tr>\n",
       "      <th>9</th>\n",
       "      <td>?</td>\n",
       "      <td>99.5</td>\n",
       "      <td>178.2</td>\n",
       "      <td>67.9</td>\n",
       "      <td>52.0</td>\n",
       "      <td>3053</td>\n",
       "      <td>131</td>\n",
       "      <td>3.13</td>\n",
       "      <td>3.40</td>\n",
       "      <td>7.0</td>\n",
       "      <td>160</td>\n",
       "      <td>5500</td>\n",
       "      <td>16</td>\n",
       "      <td>22</td>\n",
       "      <td>?</td>\n",
       "    </tr>\n",
       "  </tbody>\n",
       "</table>\n",
       "</div>"
      ],
      "text/plain": [
       "  normalized-losses  wheel-base  length  width  height  curb-weight  \\\n",
       "0                 ?        88.6   168.8   64.1    48.8         2548   \n",
       "1                 ?        88.6   168.8   64.1    48.8         2548   \n",
       "2                 ?        94.5   171.2   65.5    52.4         2823   \n",
       "3               164        99.8   176.6   66.2    54.3         2337   \n",
       "4               164        99.4   176.6   66.4    54.3         2824   \n",
       "5                 ?        99.8   177.3   66.3    53.1         2507   \n",
       "6               158       105.8   192.7   71.4    55.7         2844   \n",
       "7                 ?       105.8   192.7   71.4    55.7         2954   \n",
       "8               158       105.8   192.7   71.4    55.9         3086   \n",
       "9                 ?        99.5   178.2   67.9    52.0         3053   \n",
       "\n",
       "   engine-size  bore stroke  compression-rate horsepower peak-rpm  city-mpg  \\\n",
       "0          130  3.47   2.68               9.0        111     5000        21   \n",
       "1          130  3.47   2.68               9.0        111     5000        21   \n",
       "2          152  2.68   3.47               9.0        154     5000        19   \n",
       "3          109  3.19   3.40              10.0        102     5500        24   \n",
       "4          136  3.19   3.40               8.0        115     5500        18   \n",
       "5          136  3.19   3.40               8.5        110     5500        19   \n",
       "6          136  3.19   3.40               8.5        110     5500        19   \n",
       "7          136  3.19   3.40               8.5        110     5500        19   \n",
       "8          131  3.13   3.40               8.3        140     5500        17   \n",
       "9          131  3.13   3.40               7.0        160     5500        16   \n",
       "\n",
       "   highway-mpg  price  \n",
       "0           27  13495  \n",
       "1           27  16500  \n",
       "2           26  16500  \n",
       "3           30  13950  \n",
       "4           22  17450  \n",
       "5           25  15250  \n",
       "6           25  17710  \n",
       "7           25  18920  \n",
       "8           20  23875  \n",
       "9           22      ?  "
      ]
     },
     "execution_count": 4,
     "metadata": {},
     "output_type": "execute_result"
    }
   ],
   "source": [
    "# Observe any missing values and fix\n",
    "numeric_cars.head(10)"
   ]
  },
  {
   "cell_type": "code",
   "execution_count": 5,
   "id": "ca9e84fd",
   "metadata": {},
   "outputs": [],
   "source": [
    "numeric_cars = numeric_cars.replace('?', np.nan)"
   ]
  },
  {
   "cell_type": "code",
   "execution_count": 6,
   "id": "90c0b560",
   "metadata": {},
   "outputs": [
    {
     "data": {
      "text/html": [
       "<div>\n",
       "<style scoped>\n",
       "    .dataframe tbody tr th:only-of-type {\n",
       "        vertical-align: middle;\n",
       "    }\n",
       "\n",
       "    .dataframe tbody tr th {\n",
       "        vertical-align: top;\n",
       "    }\n",
       "\n",
       "    .dataframe thead th {\n",
       "        text-align: right;\n",
       "    }\n",
       "</style>\n",
       "<table border=\"1\" class=\"dataframe\">\n",
       "  <thead>\n",
       "    <tr style=\"text-align: right;\">\n",
       "      <th></th>\n",
       "      <th>normalized-losses</th>\n",
       "      <th>wheel-base</th>\n",
       "      <th>length</th>\n",
       "      <th>width</th>\n",
       "      <th>height</th>\n",
       "      <th>curb-weight</th>\n",
       "      <th>engine-size</th>\n",
       "      <th>bore</th>\n",
       "      <th>stroke</th>\n",
       "      <th>compression-rate</th>\n",
       "      <th>horsepower</th>\n",
       "      <th>peak-rpm</th>\n",
       "      <th>city-mpg</th>\n",
       "      <th>highway-mpg</th>\n",
       "      <th>price</th>\n",
       "    </tr>\n",
       "  </thead>\n",
       "  <tbody>\n",
       "    <tr>\n",
       "      <th>0</th>\n",
       "      <td>NaN</td>\n",
       "      <td>88.6</td>\n",
       "      <td>168.8</td>\n",
       "      <td>64.1</td>\n",
       "      <td>48.8</td>\n",
       "      <td>2548</td>\n",
       "      <td>130</td>\n",
       "      <td>3.47</td>\n",
       "      <td>2.68</td>\n",
       "      <td>9.0</td>\n",
       "      <td>111</td>\n",
       "      <td>5000</td>\n",
       "      <td>21</td>\n",
       "      <td>27</td>\n",
       "      <td>13495</td>\n",
       "    </tr>\n",
       "    <tr>\n",
       "      <th>1</th>\n",
       "      <td>NaN</td>\n",
       "      <td>88.6</td>\n",
       "      <td>168.8</td>\n",
       "      <td>64.1</td>\n",
       "      <td>48.8</td>\n",
       "      <td>2548</td>\n",
       "      <td>130</td>\n",
       "      <td>3.47</td>\n",
       "      <td>2.68</td>\n",
       "      <td>9.0</td>\n",
       "      <td>111</td>\n",
       "      <td>5000</td>\n",
       "      <td>21</td>\n",
       "      <td>27</td>\n",
       "      <td>16500</td>\n",
       "    </tr>\n",
       "    <tr>\n",
       "      <th>2</th>\n",
       "      <td>NaN</td>\n",
       "      <td>94.5</td>\n",
       "      <td>171.2</td>\n",
       "      <td>65.5</td>\n",
       "      <td>52.4</td>\n",
       "      <td>2823</td>\n",
       "      <td>152</td>\n",
       "      <td>2.68</td>\n",
       "      <td>3.47</td>\n",
       "      <td>9.0</td>\n",
       "      <td>154</td>\n",
       "      <td>5000</td>\n",
       "      <td>19</td>\n",
       "      <td>26</td>\n",
       "      <td>16500</td>\n",
       "    </tr>\n",
       "    <tr>\n",
       "      <th>3</th>\n",
       "      <td>164</td>\n",
       "      <td>99.8</td>\n",
       "      <td>176.6</td>\n",
       "      <td>66.2</td>\n",
       "      <td>54.3</td>\n",
       "      <td>2337</td>\n",
       "      <td>109</td>\n",
       "      <td>3.19</td>\n",
       "      <td>3.40</td>\n",
       "      <td>10.0</td>\n",
       "      <td>102</td>\n",
       "      <td>5500</td>\n",
       "      <td>24</td>\n",
       "      <td>30</td>\n",
       "      <td>13950</td>\n",
       "    </tr>\n",
       "    <tr>\n",
       "      <th>4</th>\n",
       "      <td>164</td>\n",
       "      <td>99.4</td>\n",
       "      <td>176.6</td>\n",
       "      <td>66.4</td>\n",
       "      <td>54.3</td>\n",
       "      <td>2824</td>\n",
       "      <td>136</td>\n",
       "      <td>3.19</td>\n",
       "      <td>3.40</td>\n",
       "      <td>8.0</td>\n",
       "      <td>115</td>\n",
       "      <td>5500</td>\n",
       "      <td>18</td>\n",
       "      <td>22</td>\n",
       "      <td>17450</td>\n",
       "    </tr>\n",
       "  </tbody>\n",
       "</table>\n",
       "</div>"
      ],
      "text/plain": [
       "  normalized-losses  wheel-base  length  width  height  curb-weight  \\\n",
       "0               NaN        88.6   168.8   64.1    48.8         2548   \n",
       "1               NaN        88.6   168.8   64.1    48.8         2548   \n",
       "2               NaN        94.5   171.2   65.5    52.4         2823   \n",
       "3               164        99.8   176.6   66.2    54.3         2337   \n",
       "4               164        99.4   176.6   66.4    54.3         2824   \n",
       "\n",
       "   engine-size  bore stroke  compression-rate horsepower peak-rpm  city-mpg  \\\n",
       "0          130  3.47   2.68               9.0        111     5000        21   \n",
       "1          130  3.47   2.68               9.0        111     5000        21   \n",
       "2          152  2.68   3.47               9.0        154     5000        19   \n",
       "3          109  3.19   3.40              10.0        102     5500        24   \n",
       "4          136  3.19   3.40               8.0        115     5500        18   \n",
       "\n",
       "   highway-mpg  price  \n",
       "0           27  13495  \n",
       "1           27  16500  \n",
       "2           26  16500  \n",
       "3           30  13950  \n",
       "4           22  17450  "
      ]
     },
     "execution_count": 6,
     "metadata": {},
     "output_type": "execute_result"
    }
   ],
   "source": [
    "numeric_cars.head()"
   ]
  },
  {
   "cell_type": "code",
   "execution_count": 7,
   "id": "c393fa89",
   "metadata": {},
   "outputs": [
    {
     "data": {
      "text/plain": [
       "normalized-losses    41\n",
       "wheel-base            0\n",
       "length                0\n",
       "width                 0\n",
       "height                0\n",
       "curb-weight           0\n",
       "engine-size           0\n",
       "bore                  4\n",
       "stroke                4\n",
       "compression-rate      0\n",
       "horsepower            2\n",
       "peak-rpm              2\n",
       "city-mpg              0\n",
       "highway-mpg           0\n",
       "price                 4\n",
       "dtype: int64"
      ]
     },
     "execution_count": 7,
     "metadata": {},
     "output_type": "execute_result"
    }
   ],
   "source": [
    "numeric_cars.isnull().sum()"
   ]
  },
  {
   "cell_type": "code",
   "execution_count": 8,
   "id": "6e79ff6e",
   "metadata": {},
   "outputs": [
    {
     "name": "stdout",
     "output_type": "stream",
     "text": [
      "<class 'pandas.core.frame.DataFrame'>\n",
      "RangeIndex: 205 entries, 0 to 204\n",
      "Data columns (total 15 columns):\n",
      " #   Column             Non-Null Count  Dtype  \n",
      "---  ------             --------------  -----  \n",
      " 0   normalized-losses  164 non-null    object \n",
      " 1   wheel-base         205 non-null    float64\n",
      " 2   length             205 non-null    float64\n",
      " 3   width              205 non-null    float64\n",
      " 4   height             205 non-null    float64\n",
      " 5   curb-weight        205 non-null    int64  \n",
      " 6   engine-size        205 non-null    int64  \n",
      " 7   bore               201 non-null    object \n",
      " 8   stroke             201 non-null    object \n",
      " 9   compression-rate   205 non-null    float64\n",
      " 10  horsepower         203 non-null    object \n",
      " 11  peak-rpm           203 non-null    object \n",
      " 12  city-mpg           205 non-null    int64  \n",
      " 13  highway-mpg        205 non-null    int64  \n",
      " 14  price              201 non-null    object \n",
      "dtypes: float64(5), int64(4), object(6)\n",
      "memory usage: 24.1+ KB\n"
     ]
    }
   ],
   "source": [
    "numeric_cars.info()"
   ]
  },
  {
   "cell_type": "code",
   "execution_count": 9,
   "id": "abd4c226",
   "metadata": {},
   "outputs": [],
   "source": [
    "# transform rows into floats for calculations as well as drop in values that are NaN\n",
    "numeric_cars = numeric_cars.astype(float)\n",
    "numeric_cars = numeric_cars.dropna()"
   ]
  },
  {
   "cell_type": "code",
   "execution_count": 10,
   "id": "3186a23a",
   "metadata": {},
   "outputs": [
    {
     "name": "stdout",
     "output_type": "stream",
     "text": [
      "<class 'pandas.core.frame.DataFrame'>\n",
      "Int64Index: 160 entries, 3 to 204\n",
      "Data columns (total 15 columns):\n",
      " #   Column             Non-Null Count  Dtype  \n",
      "---  ------             --------------  -----  \n",
      " 0   normalized-losses  160 non-null    float64\n",
      " 1   wheel-base         160 non-null    float64\n",
      " 2   length             160 non-null    float64\n",
      " 3   width              160 non-null    float64\n",
      " 4   height             160 non-null    float64\n",
      " 5   curb-weight        160 non-null    float64\n",
      " 6   engine-size        160 non-null    float64\n",
      " 7   bore               160 non-null    float64\n",
      " 8   stroke             160 non-null    float64\n",
      " 9   compression-rate   160 non-null    float64\n",
      " 10  horsepower         160 non-null    float64\n",
      " 11  peak-rpm           160 non-null    float64\n",
      " 12  city-mpg           160 non-null    float64\n",
      " 13  highway-mpg        160 non-null    float64\n",
      " 14  price              160 non-null    float64\n",
      "dtypes: float64(15)\n",
      "memory usage: 20.0 KB\n"
     ]
    }
   ],
   "source": [
    "numeric_cars.info()"
   ]
  },
  {
   "cell_type": "code",
   "execution_count": 11,
   "id": "1ec21f0b",
   "metadata": {},
   "outputs": [
    {
     "data": {
      "text/html": [
       "<div>\n",
       "<style scoped>\n",
       "    .dataframe tbody tr th:only-of-type {\n",
       "        vertical-align: middle;\n",
       "    }\n",
       "\n",
       "    .dataframe tbody tr th {\n",
       "        vertical-align: top;\n",
       "    }\n",
       "\n",
       "    .dataframe thead th {\n",
       "        text-align: right;\n",
       "    }\n",
       "</style>\n",
       "<table border=\"1\" class=\"dataframe\">\n",
       "  <thead>\n",
       "    <tr style=\"text-align: right;\">\n",
       "      <th></th>\n",
       "      <th>normalized-losses</th>\n",
       "      <th>wheel-base</th>\n",
       "      <th>length</th>\n",
       "      <th>width</th>\n",
       "      <th>height</th>\n",
       "      <th>curb-weight</th>\n",
       "      <th>engine-size</th>\n",
       "      <th>bore</th>\n",
       "      <th>stroke</th>\n",
       "      <th>compression-rate</th>\n",
       "      <th>horsepower</th>\n",
       "      <th>peak-rpm</th>\n",
       "      <th>city-mpg</th>\n",
       "      <th>highway-mpg</th>\n",
       "      <th>price</th>\n",
       "    </tr>\n",
       "  </thead>\n",
       "  <tbody>\n",
       "    <tr>\n",
       "      <th>3</th>\n",
       "      <td>0.518325</td>\n",
       "      <td>0.455172</td>\n",
       "      <td>0.577236</td>\n",
       "      <td>0.517544</td>\n",
       "      <td>0.471154</td>\n",
       "      <td>0.329325</td>\n",
       "      <td>0.243655</td>\n",
       "      <td>0.464286</td>\n",
       "      <td>0.633333</td>\n",
       "      <td>0.18750</td>\n",
       "      <td>0.355263</td>\n",
       "      <td>0.551020</td>\n",
       "      <td>0.264706</td>\n",
       "      <td>0.333333</td>\n",
       "      <td>13950.0</td>\n",
       "    </tr>\n",
       "    <tr>\n",
       "      <th>4</th>\n",
       "      <td>0.518325</td>\n",
       "      <td>0.441379</td>\n",
       "      <td>0.577236</td>\n",
       "      <td>0.535088</td>\n",
       "      <td>0.471154</td>\n",
       "      <td>0.518231</td>\n",
       "      <td>0.380711</td>\n",
       "      <td>0.464286</td>\n",
       "      <td>0.633333</td>\n",
       "      <td>0.06250</td>\n",
       "      <td>0.440789</td>\n",
       "      <td>0.551020</td>\n",
       "      <td>0.088235</td>\n",
       "      <td>0.111111</td>\n",
       "      <td>17450.0</td>\n",
       "    </tr>\n",
       "    <tr>\n",
       "      <th>6</th>\n",
       "      <td>0.486911</td>\n",
       "      <td>0.662069</td>\n",
       "      <td>0.839024</td>\n",
       "      <td>0.973684</td>\n",
       "      <td>0.605769</td>\n",
       "      <td>0.525989</td>\n",
       "      <td>0.380711</td>\n",
       "      <td>0.464286</td>\n",
       "      <td>0.633333</td>\n",
       "      <td>0.09375</td>\n",
       "      <td>0.407895</td>\n",
       "      <td>0.551020</td>\n",
       "      <td>0.117647</td>\n",
       "      <td>0.194444</td>\n",
       "      <td>17710.0</td>\n",
       "    </tr>\n",
       "    <tr>\n",
       "      <th>8</th>\n",
       "      <td>0.486911</td>\n",
       "      <td>0.662069</td>\n",
       "      <td>0.839024</td>\n",
       "      <td>0.973684</td>\n",
       "      <td>0.625000</td>\n",
       "      <td>0.619860</td>\n",
       "      <td>0.355330</td>\n",
       "      <td>0.421429</td>\n",
       "      <td>0.633333</td>\n",
       "      <td>0.08125</td>\n",
       "      <td>0.605263</td>\n",
       "      <td>0.551020</td>\n",
       "      <td>0.058824</td>\n",
       "      <td>0.055556</td>\n",
       "      <td>23875.0</td>\n",
       "    </tr>\n",
       "    <tr>\n",
       "      <th>10</th>\n",
       "      <td>0.664921</td>\n",
       "      <td>0.503448</td>\n",
       "      <td>0.580488</td>\n",
       "      <td>0.394737</td>\n",
       "      <td>0.471154</td>\n",
       "      <td>0.351823</td>\n",
       "      <td>0.238579</td>\n",
       "      <td>0.685714</td>\n",
       "      <td>0.347619</td>\n",
       "      <td>0.11250</td>\n",
       "      <td>0.348684</td>\n",
       "      <td>0.673469</td>\n",
       "      <td>0.235294</td>\n",
       "      <td>0.305556</td>\n",
       "      <td>16430.0</td>\n",
       "    </tr>\n",
       "    <tr>\n",
       "      <th>11</th>\n",
       "      <td>0.664921</td>\n",
       "      <td>0.503448</td>\n",
       "      <td>0.580488</td>\n",
       "      <td>0.394737</td>\n",
       "      <td>0.471154</td>\n",
       "      <td>0.351823</td>\n",
       "      <td>0.238579</td>\n",
       "      <td>0.685714</td>\n",
       "      <td>0.347619</td>\n",
       "      <td>0.11250</td>\n",
       "      <td>0.348684</td>\n",
       "      <td>0.673469</td>\n",
       "      <td>0.235294</td>\n",
       "      <td>0.305556</td>\n",
       "      <td>16925.0</td>\n",
       "    </tr>\n",
       "    <tr>\n",
       "      <th>12</th>\n",
       "      <td>0.643979</td>\n",
       "      <td>0.503448</td>\n",
       "      <td>0.580488</td>\n",
       "      <td>0.394737</td>\n",
       "      <td>0.471154</td>\n",
       "      <td>0.474011</td>\n",
       "      <td>0.522843</td>\n",
       "      <td>0.550000</td>\n",
       "      <td>0.533333</td>\n",
       "      <td>0.12500</td>\n",
       "      <td>0.480263</td>\n",
       "      <td>0.040816</td>\n",
       "      <td>0.176471</td>\n",
       "      <td>0.277778</td>\n",
       "      <td>20970.0</td>\n",
       "    </tr>\n",
       "    <tr>\n",
       "      <th>13</th>\n",
       "      <td>0.643979</td>\n",
       "      <td>0.503448</td>\n",
       "      <td>0.580488</td>\n",
       "      <td>0.394737</td>\n",
       "      <td>0.471154</td>\n",
       "      <td>0.495345</td>\n",
       "      <td>0.522843</td>\n",
       "      <td>0.550000</td>\n",
       "      <td>0.533333</td>\n",
       "      <td>0.12500</td>\n",
       "      <td>0.480263</td>\n",
       "      <td>0.040816</td>\n",
       "      <td>0.176471</td>\n",
       "      <td>0.277778</td>\n",
       "      <td>21105.0</td>\n",
       "    </tr>\n",
       "    <tr>\n",
       "      <th>18</th>\n",
       "      <td>0.293194</td>\n",
       "      <td>0.062069</td>\n",
       "      <td>0.000000</td>\n",
       "      <td>0.000000</td>\n",
       "      <td>0.365385</td>\n",
       "      <td>0.000000</td>\n",
       "      <td>0.000000</td>\n",
       "      <td>0.264286</td>\n",
       "      <td>0.457143</td>\n",
       "      <td>0.15625</td>\n",
       "      <td>0.000000</td>\n",
       "      <td>0.387755</td>\n",
       "      <td>0.941176</td>\n",
       "      <td>0.972222</td>\n",
       "      <td>5151.0</td>\n",
       "    </tr>\n",
       "    <tr>\n",
       "      <th>19</th>\n",
       "      <td>0.172775</td>\n",
       "      <td>0.272414</td>\n",
       "      <td>0.240650</td>\n",
       "      <td>0.289474</td>\n",
       "      <td>0.250000</td>\n",
       "      <td>0.149728</td>\n",
       "      <td>0.147208</td>\n",
       "      <td>0.350000</td>\n",
       "      <td>0.495238</td>\n",
       "      <td>0.16250</td>\n",
       "      <td>0.144737</td>\n",
       "      <td>0.510204</td>\n",
       "      <td>0.676471</td>\n",
       "      <td>0.694444</td>\n",
       "      <td>6295.0</td>\n",
       "    </tr>\n",
       "  </tbody>\n",
       "</table>\n",
       "</div>"
      ],
      "text/plain": [
       "    normalized-losses  wheel-base    length     width    height  curb-weight  \\\n",
       "3            0.518325    0.455172  0.577236  0.517544  0.471154     0.329325   \n",
       "4            0.518325    0.441379  0.577236  0.535088  0.471154     0.518231   \n",
       "6            0.486911    0.662069  0.839024  0.973684  0.605769     0.525989   \n",
       "8            0.486911    0.662069  0.839024  0.973684  0.625000     0.619860   \n",
       "10           0.664921    0.503448  0.580488  0.394737  0.471154     0.351823   \n",
       "11           0.664921    0.503448  0.580488  0.394737  0.471154     0.351823   \n",
       "12           0.643979    0.503448  0.580488  0.394737  0.471154     0.474011   \n",
       "13           0.643979    0.503448  0.580488  0.394737  0.471154     0.495345   \n",
       "18           0.293194    0.062069  0.000000  0.000000  0.365385     0.000000   \n",
       "19           0.172775    0.272414  0.240650  0.289474  0.250000     0.149728   \n",
       "\n",
       "    engine-size      bore    stroke  compression-rate  horsepower  peak-rpm  \\\n",
       "3      0.243655  0.464286  0.633333           0.18750    0.355263  0.551020   \n",
       "4      0.380711  0.464286  0.633333           0.06250    0.440789  0.551020   \n",
       "6      0.380711  0.464286  0.633333           0.09375    0.407895  0.551020   \n",
       "8      0.355330  0.421429  0.633333           0.08125    0.605263  0.551020   \n",
       "10     0.238579  0.685714  0.347619           0.11250    0.348684  0.673469   \n",
       "11     0.238579  0.685714  0.347619           0.11250    0.348684  0.673469   \n",
       "12     0.522843  0.550000  0.533333           0.12500    0.480263  0.040816   \n",
       "13     0.522843  0.550000  0.533333           0.12500    0.480263  0.040816   \n",
       "18     0.000000  0.264286  0.457143           0.15625    0.000000  0.387755   \n",
       "19     0.147208  0.350000  0.495238           0.16250    0.144737  0.510204   \n",
       "\n",
       "    city-mpg  highway-mpg    price  \n",
       "3   0.264706     0.333333  13950.0  \n",
       "4   0.088235     0.111111  17450.0  \n",
       "6   0.117647     0.194444  17710.0  \n",
       "8   0.058824     0.055556  23875.0  \n",
       "10  0.235294     0.305556  16430.0  \n",
       "11  0.235294     0.305556  16925.0  \n",
       "12  0.176471     0.277778  20970.0  \n",
       "13  0.176471     0.277778  21105.0  \n",
       "18  0.941176     0.972222   5151.0  \n",
       "19  0.676471     0.694444   6295.0  "
      ]
     },
     "execution_count": 11,
     "metadata": {},
     "output_type": "execute_result"
    }
   ],
   "source": [
    "# Rescale features\n",
    "\n",
    "normalized_cars = (numeric_cars - numeric_cars.min())/(numeric_cars.max() - numeric_cars.min())\n",
    "normalized_cars['price'] = numeric_cars['price']\n",
    "normalized_cars.head(10)"
   ]
  },
  {
   "cell_type": "markdown",
   "id": "5adc6378",
   "metadata": {},
   "source": [
    "### Intial training of model using default knn parameters using the scoring metric of root mean squared error"
   ]
  },
  {
   "cell_type": "code",
   "execution_count": 12,
   "id": "6f33cbbf",
   "metadata": {},
   "outputs": [
    {
     "data": {
      "text/plain": [
       "{'normalized-losses': 5277.926301967469,\n",
       " 'wheel-base': 3884.7827434104984,\n",
       " 'length': 3606.4593599540253,\n",
       " 'width': 2419.182438655671,\n",
       " 'height': 5024.97412505776,\n",
       " 'curb-weight': 2389.0199968815664,\n",
       " 'engine-size': 2928.076760349701,\n",
       " 'bore': 4021.365058534229,\n",
       " 'stroke': 4931.127907994275,\n",
       " 'compression-rate': 5977.443991080134,\n",
       " 'horsepower': 3045.4949051837207,\n",
       " 'peak-rpm': 5816.701973670303,\n",
       " 'city-mpg': 2667.607360913521,\n",
       " 'highway-mpg': 3705.5898243059764}"
      ]
     },
     "execution_count": 12,
     "metadata": {},
     "output_type": "execute_result"
    }
   ],
   "source": [
    "# Initial training of model \n",
    "\n",
    "def knn_train_test(train, target, df):\n",
    "    np.random.seed(1)\n",
    "    \n",
    "    shuffled = np.random.permutation(df.index)\n",
    "    rand_df = df.reindex(shuffled)\n",
    "    \n",
    "    split_row = int(len(rand_df)/2)\n",
    "    \n",
    "    train_df = rand_df[0:split_row]\n",
    "    test_df = rand_df[split_row:]\n",
    "    \n",
    "    knn = KNeighborsRegressor()\n",
    "    knn.fit(train_df[train], train_df[target])\n",
    "    predictions = knn.predict(test_df[train])\n",
    "    mse = mean_squared_error(test_df[target], predictions)\n",
    "    return(mse**(1/2))\n",
    "    \n",
    "training_cols = normalized_cars.columns.drop('price')    \n",
    "\n",
    "# knn_train_test(training_cols, 'price', normalized_cars)\n",
    "rmses = {}\n",
    "for col in training_cols:\n",
    "    rmse_val = knn_train_test([col], 'price', normalized_cars)\n",
    "    rmses[col] = rmse_val\n",
    "    \n",
    "rmses"
   ]
  },
  {
   "cell_type": "markdown",
   "id": "d587b3cb",
   "metadata": {},
   "source": [
    "### Now we are going to train the model using different k values or number of neighbors "
   ]
  },
  {
   "cell_type": "code",
   "execution_count": 13,
   "id": "a9b0b68a",
   "metadata": {},
   "outputs": [
    {
     "data": {
      "text/plain": [
       "{'normalized-losses': {1: 3695.0525588278174,\n",
       "  3: 4054.0440003710423,\n",
       "  5: 5277.926301967469,\n",
       "  7: 5634.562898544399,\n",
       "  9: 5379.0524336351555},\n",
       " 'wheel-base': {1: 7035.103554674942,\n",
       "  3: 4269.44069814771,\n",
       "  5: 3884.7827434104984,\n",
       "  7: 3986.3082128847295,\n",
       "  9: 4061.183325965323},\n",
       " 'length': {1: 3846.968056144995,\n",
       "  3: 3887.4799577904223,\n",
       "  5: 3606.4593599540253,\n",
       "  7: 3654.449212806164,\n",
       "  9: 3546.780135985975},\n",
       " 'width': {1: 2663.4459540227203,\n",
       "  3: 2542.826361660496,\n",
       "  5: 2419.182438655671,\n",
       "  7: 2271.978359395446,\n",
       "  9: 2609.862562662573},\n",
       " 'height': {1: 6287.144454162001,\n",
       "  3: 5169.298209138258,\n",
       "  5: 5024.97412505776,\n",
       "  7: 5204.592482527683,\n",
       "  9: 5497.756258013887},\n",
       " 'curb-weight': {1: 2939.3019813384262,\n",
       "  3: 2557.2676121747168,\n",
       "  5: 2389.0199968815664,\n",
       "  7: 2404.842780883047,\n",
       "  9: 2390.5946017675183},\n",
       " 'engine-size': {1: 2298.1178548977855,\n",
       "  3: 2478.917083235249,\n",
       "  5: 2928.076760349701,\n",
       "  7: 3435.4935128429092,\n",
       "  9: 3482.3855448563836},\n",
       " 'bore': {1: 5045.293908683616,\n",
       "  3: 4279.346572005279,\n",
       "  5: 4021.365058534229,\n",
       "  7: 4076.293607493184,\n",
       "  9: 4226.589912734864},\n",
       " 'stroke': {1: 5060.011703296743,\n",
       "  3: 4622.0958551770045,\n",
       "  5: 4931.127907994275,\n",
       "  7: 5320.094566349169,\n",
       "  9: 5450.603163800168},\n",
       " 'compression-rate': {1: 5980.037117359724,\n",
       "  3: 6434.242030491582,\n",
       "  5: 5977.443991080134,\n",
       "  7: 5694.017788299348,\n",
       "  9: 5506.683832294898},\n",
       " 'horsepower': {1: 3293.74165843346,\n",
       "  3: 2871.740741209454,\n",
       "  5: 3045.4949051837207,\n",
       "  7: 3105.816140151984,\n",
       "  9: 3030.4557231494305},\n",
       " 'peak-rpm': {1: 6624.24330301205,\n",
       "  3: 5316.701158587176,\n",
       "  5: 5816.701973670303,\n",
       "  7: 6344.365985334338,\n",
       "  9: 6194.122490923289},\n",
       " 'city-mpg': {1: 3623.325332136213,\n",
       "  3: 2615.668224055439,\n",
       "  5: 2667.607360913521,\n",
       "  7: 2776.2762197716183,\n",
       "  9: 2770.504809903338},\n",
       " 'highway-mpg': {1: 4088.7204676402125,\n",
       "  3: 3303.557863206812,\n",
       "  5: 3705.5898243059764,\n",
       "  7: 3756.841124868071,\n",
       "  9: 3443.412323387663}}"
      ]
     },
     "execution_count": 13,
     "metadata": {},
     "output_type": "execute_result"
    }
   ],
   "source": [
    "#testing different k values\n",
    "\n",
    "def knn_train_test2(train, target, df):\n",
    "    np.random.seed(1)\n",
    "    \n",
    "    shuffled = np.random.permutation(df.index)\n",
    "    rand_df = df.reindex(shuffled)\n",
    "    \n",
    "    split_row = int(len(rand_df)/2)\n",
    "    \n",
    "    train_df = rand_df[0:split_row]\n",
    "    test_df = rand_df[split_row:]\n",
    "    k_values = [1,3,5,7,9]\n",
    "    k_rmses = {}\n",
    "    for k in k_values:        \n",
    "        knn = KNeighborsRegressor(n_neighbors=k)\n",
    "        knn.fit(train_df[train], train_df[target])\n",
    "        predictions = knn.predict(test_df[train])\n",
    "        mse = mean_squared_error(test_df[target], predictions)\n",
    "        rmse = mse**(1/2)\n",
    "        k_rmses[k] = rmse\n",
    "    return k_rmses\n",
    "    \n",
    "\n",
    "# knn_train_test(training_cols, 'price', normalized_cars)\n",
    "rmses2 = {}\n",
    "for col in training_cols:\n",
    "    rmse_val2 = knn_train_test2([col], 'price', normalized_cars)\n",
    "    rmses2[col] = rmse_val2\n",
    "    \n",
    "rmses2"
   ]
  },
  {
   "cell_type": "code",
   "execution_count": 14,
   "id": "dff0b7ed",
   "metadata": {},
   "outputs": [
    {
     "data": {
      "image/png": "[encoded data removed]",
      "text/plain": [
       "<Figure size 432x288 with 1 Axes>"
      ]
     },
     "metadata": {
      "needs_background": "light"
     },
     "output_type": "display_data"
    },
    {
     "data": {
      "image/png": "[encoded data removed]",
      "text/plain": [
       "<Figure size 432x288 with 1 Axes>"
      ]
     },
     "metadata": {
      "needs_background": "light"
     },
     "output_type": "display_data"
    },
    {
     "data": {
      "image/png": "[encoded data removed]",
      "text/plain": [
       "<Figure size 432x288 with 1 Axes>"
      ]
     },
     "metadata": {
      "needs_background": "light"
     },
     "output_type": "display_data"
    },
    {
     "data": {
      "image/png": "[encoded data removed]",
      "text/plain": [
       "<Figure size 432x288 with 1 Axes>"
      ]
     },
     "metadata": {
      "needs_background": "light"
     },
     "output_type": "display_data"
    },
    {
     "data": {
      "image/png": "[encoded data removed]",
      "text/plain": [
       "<Figure size 432x288 with 1 Axes>"
      ]
     },
     "metadata": {
      "needs_background": "light"
     },
     "output_type": "display_data"
    },
    {
     "data": {
      "image/png": "[encoded data removed]",
      "text/plain": [
       "<Figure size 432x288 with 1 Axes>"
      ]
     },
     "metadata": {
      "needs_background": "light"
     },
     "output_type": "display_data"
    },
    {
     "data": {
      "image/png": "[encoded data removed]",
      "text/plain": [
       "<Figure size 432x288 with 1 Axes>"
      ]
     },
     "metadata": {
      "needs_background": "light"
     },
     "output_type": "display_data"
    },
    {
     "data": {
      "image/png": "[encoded data removed]",
      "text/plain": [
       "<Figure size 432x288 with 1 Axes>"
      ]
     },
     "metadata": {
      "needs_background": "light"
     },
     "output_type": "display_data"
    },
    {
     "data": {
      "image/png": "[encoded data removed]",
      "text/plain": [
       "<Figure size 432x288 with 1 Axes>"
      ]
     },
     "metadata": {
      "needs_background": "light"
     },
     "output_type": "display_data"
    },
    {
     "data": {
      "image/png": "[encoded data removed]",
      "text/plain": [
       "<Figure size 432x288 with 1 Axes>"
      ]
     },
     "metadata": {
      "needs_background": "light"
     },
     "output_type": "display_data"
    },
    {
     "data": {
      "image/png": "[encoded data removed]",
      "text/plain": [
       "<Figure size 432x288 with 1 Axes>"
      ]
     },
     "metadata": {
      "needs_background": "light"
     },
     "output_type": "display_data"
    },
    {
     "data": {
      "image/png": "[encoded data removed]",
      "text/plain": [
       "<Figure size 432x288 with 1 Axes>"
      ]
     },
     "metadata": {
      "needs_background": "light"
     },
     "output_type": "display_data"
    },
    {
     "data": {
      "image/png": "[encoded data removed]",
      "text/plain": [
       "<Figure size 432x288 with 1 Axes>"
      ]
     },
     "metadata": {
      "needs_background": "light"
     },
     "output_type": "display_data"
    },
    {
     "data": {
      "image/png": "[encoded data removed]",
      "text/plain": [
       "<Figure size 432x288 with 1 Axes>"
      ]
     },
     "metadata": {
      "needs_background": "light"
     },
     "output_type": "display_data"
    }
   ],
   "source": [
    "for k,v in rmses2.items():\n",
    "    x = list(v.keys())\n",
    "    y = list(v.values())\n",
    "    \n",
    "    plt.scatter(x, y)\n",
    "    plt.title(k)\n",
    "    plt.xlabel('k values')\n",
    "    plt.ylabel('rmse')\n",
    "    plt.show()\n",
    "        \n",
    "    \n",
    "    "
   ]
  },
  {
   "cell_type": "code",
   "execution_count": 15,
   "id": "d09425b2",
   "metadata": {},
   "outputs": [
    {
     "data": {
      "text/plain": [
       "width                2501.459135\n",
       "curb-weight          2536.205395\n",
       "city-mpg             2890.676389\n",
       "engine-size          2924.598151\n",
       "horsepower           3069.449834\n",
       "highway-mpg          3659.624321\n",
       "length               3708.427345\n",
       "bore                 4329.777812\n",
       "wheel-base           4647.363707\n",
       "normalized-losses    4808.127639\n",
       "stroke               5076.786639\n",
       "height               5436.753106\n",
       "compression-rate     5918.484952\n",
       "peak-rpm             6059.226982\n",
       "dtype: float64"
      ]
     },
     "execution_count": 15,
     "metadata": {},
     "output_type": "execute_result"
    }
   ],
   "source": [
    "# sort features by lowest average rmse\n",
    "feature_avg_rmses = {}\n",
    "for k, v in rmses2.items():\n",
    "    avg_rmse = np.mean(list(v.values()))\n",
    "    feature_avg_rmses[k] = avg_rmse\n",
    "\n",
    "sorted_features_avg = pd.Series(feature_avg_rmses).sort_values()\n",
    "sorted_features_avg"
   ]
  },
  {
   "cell_type": "code",
   "execution_count": 16,
   "id": "fe7097e8",
   "metadata": {},
   "outputs": [
    {
     "data": {
      "text/plain": [
       "{'2 features': {1: 2387.9726940440505,\n",
       "  3: 2353.198993450783,\n",
       "  5: 2051.4090976692096,\n",
       "  7: 2148.0123158232986,\n",
       "  9: 2224.493933570921},\n",
       " '3 features': {1: 2753.6585141407786,\n",
       "  3: 2024.536480558232,\n",
       "  5: 2039.690254425902,\n",
       "  7: 2203.136623286751,\n",
       "  9: 2211.035026922409},\n",
       " '4 features': {1: 1687.1632626986636,\n",
       "  3: 2171.8443269616623,\n",
       "  5: 1968.1485308532992,\n",
       "  7: 2116.6782700683616,\n",
       "  9: 2238.701174754165},\n",
       " '5 features': {1: 1730.0245121095827,\n",
       "  3: 2034.3504573532393,\n",
       "  5: 2043.3867523060826,\n",
       "  7: 2109.9623878913876,\n",
       "  9: 2330.0703818914785},\n",
       " '6 features': {1: 1795.0378025267323,\n",
       "  3: 2010.8313537771717,\n",
       "  5: 2099.264275526071,\n",
       "  7: 2145.7411608432026,\n",
       "  9: 2275.1097722804334},\n",
       " '7 features': {1: 1810.212905295949,\n",
       "  3: 1810.0638271434887,\n",
       "  5: 2110.502178629532,\n",
       "  7: 2215.467119457646,\n",
       "  9: 2226.0854926013894}}"
      ]
     },
     "execution_count": 16,
     "metadata": {},
     "output_type": "execute_result"
    }
   ],
   "source": [
    "# train model using best features\n",
    "best_features_model = {}\n",
    "for n_features in range(2,8):\n",
    "    best_features_model['{} features'.format(n_features)] = knn_train_test2(sorted_features_avg.index[:n_features], 'price', normalized_cars)\n",
    "                                                                                  \n",
    "best_features_model\n",
    "                                                                                  "
   ]
  },
  {
   "cell_type": "code",
   "execution_count": 34,
   "id": "f64fdb1e",
   "metadata": {},
   "outputs": [
    {
     "data": {
      "image/png": "[encoded data removed]",
      "text/plain": [
       "<Figure size 432x288 with 1 Axes>"
      ]
     },
     "metadata": {
      "needs_background": "light"
     },
     "output_type": "display_data"
    }
   ],
   "source": [
    "feature_names = []\n",
    "for f,v in best_features_model.items():\n",
    "    x = list(v.keys())\n",
    "    y = list(v.values())\n",
    "    feature_names.append(f)\n",
    "    plt.xlabel('k values')\n",
    "    plt.ylabel('RMSE')\n",
    "    plt.plot(x,y)\n",
    "\n",
    "plt.legend(feature_names)\n",
    "plt.show()"
   ]
  },
  {
   "cell_type": "code",
   "execution_count": 43,
   "id": "5b80c7e6",
   "metadata": {},
   "outputs": [
    {
     "data": {
      "text/plain": [
       "{2: [3585.7285934732754, 335.2657277416888],\n",
       " 3: [3230.9385783071543, 306.9183144823071],\n",
       " 4: [3037.14364480518, 856.8992121711336],\n",
       " 5: [3172.953740435607, 926.5610739749943],\n",
       " 6: [3048.9530457650017, 838.247799791996],\n",
       " 7: [2910.88378636499, 848.6717023834859],\n",
       " 8: [2822.9657346834683, 977.6370870895938],\n",
       " 9: [2857.1489852809414, 887.6842383523538],\n",
       " 10: [2900.4737520949566, 1066.2155950642466],\n",
       " 11: [2758.9336643150436, 1071.3766000801065],\n",
       " 12: [2683.4800915065275, 1201.621185724779],\n",
       " 13: [2878.4631748460215, 1084.7828013863273],\n",
       " 14: [2671.3940241139576, 1277.8031218838844],\n",
       " 15: [2624.1325657639754, 1444.8515586248343],\n",
       " 16: [2614.7023892282914, 1379.1658333078974],\n",
       " 17: [2646.610927521033, 1300.0400267340126],\n",
       " 18: [2577.1270822580454, 1485.2044667224716],\n",
       " 19: [2521.6045427357863, 1575.4967362026619]}"
      ]
     },
     "execution_count": 43,
     "metadata": {},
     "output_type": "execute_result"
    }
   ],
   "source": [
    "# train model using KFold and cross validation\n",
    "def knn_train_test4(train, target, df):\n",
    "    k_folds = list(range(2,20))\n",
    "    rmse_list = {}\n",
    "    for fold in k_folds:\n",
    "        kf = KFold(n_splits=fold, shuffle=True, random_state=1)\n",
    "        knn = KNeighborsRegressor()\n",
    "        mse = cross_val_score(knn, df[train], df[target], scoring='neg_mean_squared_error', cv=kf)\n",
    "        rmse = np.abs(mse)**(1/2)\n",
    "        avg_rmse = np.mean(rmse)\n",
    "        avg_std = np.std(rmse)\n",
    "#         print('Fold ', fold)\n",
    "#         print('rmses: ', rmse)\n",
    "#         print('average rmse: ', avg_rmse)\n",
    "#         print('average std: ', avg_std)\n",
    "        rmse_list[fold] = [avg_rmse, avg_std]\n",
    "        \n",
    "    return rmse_list\n",
    "    \n",
    "rmses4 = knn_train_test4(training_cols, 'price', normalized_cars)\n",
    "\n",
    "rmses4\n"
   ]
  },
  {
   "cell_type": "code",
   "execution_count": 38,
   "id": "8ddf27c2",
   "metadata": {},
   "outputs": [
    {
     "data": {
      "image/png": "[encoded data removed]",
      "text/plain": [
       "<Figure size 432x288 with 1 Axes>"
      ]
     },
     "metadata": {
      "needs_background": "light"
     },
     "output_type": "display_data"
    }
   ],
   "source": [
    "folds = []\n",
    "x = []\n",
    "y = []\n",
    "\n",
    "for k, v in rmses4.items():\n",
    "   x.append(v[0])\n",
    "   y.append(v[1])\n",
    "   folds.append(k)\n",
    "\n",
    "plt.plot(folds, x)\n",
    "plt.plot(folds, y)\n",
    "plt.legend(['RMSE', 'STD'])\n",
    "plt.xlabel('Folds')\n",
    "plt.ylabel('RMSE')\n",
    "plt.show()"
   ]
  },
  {
   "cell_type": "markdown",
   "id": "00fcf9ed",
   "metadata": {},
   "source": [
    "### After training and testing our models, we find that the best k value was 5, where number of features was 3. Moreover, in testing cross validation, we found that the best balance of bias/variance was at 7 folds. Let's test the model to see our result."
   ]
  },
  {
   "cell_type": "code",
   "execution_count": 133,
   "id": "1a8702ef",
   "metadata": {
    "scrolled": true
   },
   "outputs": [
    {
     "data": {
      "text/plain": [
       "2471.596902823607"
      ]
     },
     "execution_count": 133,
     "metadata": {},
     "output_type": "execute_result"
    }
   ],
   "source": [
    "from sklearn.model_selection import cross_val_predict\n",
    "\n",
    "best_features_list = sorted_features_avg.index[:3]\n",
    "\n",
    "def knn_train_test5(train, target, df):\n",
    "    kf = KFold(n_splits=7)\n",
    "    knn = KNeighborsRegressor(n_neighbors=5)\n",
    "    mse = cross_val_score(knn, df[train], df[target], cv=kf, scoring='neg_mean_squared_error')\n",
    "    predictions = cross_val_predict(knn, df[train], df[target], cv=kf)\n",
    "    rmse_avg = np.mean(np.abs(mse)**(1/2))\n",
    "    return rmse_avg, predictions\n",
    "\n",
    "model_rmse = knn_train_test5(best_features_list, 'price', normalized_cars)\n",
    "\n",
    "model_rmse[0]\n"
   ]
  },
  {
   "cell_type": "code",
   "execution_count": null,
   "id": "cbf71057",
   "metadata": {},
   "outputs": [],
   "source": []
  },
  {
   "cell_type": "markdown",
   "id": "221b6b77",
   "metadata": {},
   "source": [
    "## Conclusion\n",
    "\n",
    "### Based on our tuning and validation, we found that:\n",
    "#### -The best number of folds is 7\n",
    "#### -The best features selected are width, curb-weight, and city-mpg\n",
    "#### -The best k or number of nearest neighbors is 5"
   ]
  },
  {
   "cell_type": "code",
   "execution_count": null,
   "id": "2d451bc5",
   "metadata": {},
   "outputs": [],
   "source": []
  }
 ],
 "metadata": {
  "kernelspec": {
   "display_name": "Python 3 (ipykernel)",
   "language": "python",
   "name": "python3"
  },
  "language_info": {
   "codemirror_mode": {
    "name": "ipython",
    "version": 3
   },
   "file_extension": ".py",
   "mimetype": "text/x-python",
   "name": "python",
   "nbconvert_exporter": "python",
   "pygments_lexer": "ipython3",
   "version": "3.10.0"
  }
 },
 "nbformat": 4,
 "nbformat_minor": 5
}
